{
 "cells": [
  {
   "cell_type": "code",
   "execution_count": 118,
   "metadata": {},
   "outputs": [],
   "source": [
    "import numpy as np\n",
    "%matplotlib inline\n",
    "import pandas as pd"
   ]
  },
  {
   "cell_type": "code",
   "execution_count": 135,
   "metadata": {},
   "outputs": [
    {
     "data": {
      "text/html": [
       "<div>\n",
       "<style scoped>\n",
       "    .dataframe tbody tr th:only-of-type {\n",
       "        vertical-align: middle;\n",
       "    }\n",
       "\n",
       "    .dataframe tbody tr th {\n",
       "        vertical-align: top;\n",
       "    }\n",
       "\n",
       "    .dataframe thead th {\n",
       "        text-align: right;\n",
       "    }\n",
       "</style>\n",
       "<table border=\"1\" class=\"dataframe\">\n",
       "  <thead>\n",
       "    <tr style=\"text-align: right;\">\n",
       "      <th></th>\n",
       "      <th>title</th>\n",
       "      <th>year</th>\n",
       "    </tr>\n",
       "  </thead>\n",
       "  <tbody>\n",
       "    <tr>\n",
       "      <th>0</th>\n",
       "      <td>Tasveer Mere Sanam</td>\n",
       "      <td>1996</td>\n",
       "    </tr>\n",
       "    <tr>\n",
       "      <th>1</th>\n",
       "      <td>Only You</td>\n",
       "      <td>1994</td>\n",
       "    </tr>\n",
       "    <tr>\n",
       "      <th>2</th>\n",
       "      <td>El pueblo del terror</td>\n",
       "      <td>1970</td>\n",
       "    </tr>\n",
       "    <tr>\n",
       "      <th>3</th>\n",
       "      <td>Machine</td>\n",
       "      <td>2007</td>\n",
       "    </tr>\n",
       "    <tr>\n",
       "      <th>4</th>\n",
       "      <td>MARy</td>\n",
       "      <td>2008</td>\n",
       "    </tr>\n",
       "  </tbody>\n",
       "</table>\n",
       "</div>"
      ],
      "text/plain": [
       "                  title  year\n",
       "0    Tasveer Mere Sanam  1996\n",
       "1              Only You  1994\n",
       "2  El pueblo del terror  1970\n",
       "3               Machine  2007\n",
       "4                  MARy  2008"
      ]
     },
     "execution_count": 135,
     "metadata": {},
     "output_type": "execute_result"
    }
   ],
   "source": [
    "titles = pd.read_csv('titles.csv')\n",
    "cast=pd.read_csv('cast.csv')\n",
    "rel_dates=pd.read_csv(\"release_dates.csv\")\n",
    "titles.head()"
   ]
  },
  {
   "cell_type": "code",
   "execution_count": null,
   "metadata": {},
   "outputs": [],
   "source": [
    "\n"
   ]
  },
  {
   "cell_type": "markdown",
   "metadata": {
    "collapsed": true
   },
   "source": [
    "### How many movies are listed in the titles dataframe?"
   ]
  },
  {
   "cell_type": "code",
   "execution_count": 103,
   "metadata": {},
   "outputs": [
    {
     "name": "stdout",
     "output_type": "stream",
     "text": [
      "total no of movies under title collumn: 244914\n"
     ]
    }
   ],
   "source": [
    "print(\"total no of movies under title collumn:\",titles['title'].count())"
   ]
  },
  {
   "cell_type": "raw",
   "metadata": {
    "collapsed": true
   },
   "source": [
    "244914 movies"
   ]
  },
  {
   "cell_type": "markdown",
   "metadata": {
    "collapsed": true
   },
   "source": [
    "### What are the earliest two films listed in the titles dataframe?"
   ]
  },
  {
   "cell_type": "code",
   "execution_count": 105,
   "metadata": {},
   "outputs": [
    {
     "name": "stdout",
     "output_type": "stream",
     "text": [
      " the earliest two films listed in the titles dataframe:                      title  year\n",
      "193222          Miss Jerry  1894\n",
      "51388   The Startled Lover  1898\n"
     ]
    }
   ],
   "source": [
    "print(\" the earliest two films listed in the titles dataframe:\",titles.nsmallest(2,['year']))"
   ]
  },
  {
   "cell_type": "markdown",
   "metadata": {
    "collapsed": true
   },
   "source": [
    "### How many movies have the title \"Hamlet\"?"
   ]
  },
  {
   "cell_type": "code",
   "execution_count": 108,
   "metadata": {},
   "outputs": [
    {
     "name": "stdout",
     "output_type": "stream",
     "text": [
      "the number of movies with tilte hamlet is:  title    20\n",
      "year     20\n",
      "dtype: int64\n"
     ]
    }
   ],
   "source": [
    "x=titles[titles.title=='Hamlet'].count()\n",
    "print(\"the number of movies with tilte hamlet is: \",x)"
   ]
  },
  {
   "cell_type": "code",
   "execution_count": 30,
   "metadata": {},
   "outputs": [
    {
     "data": {
      "text/plain": [
       "title    20\n",
       "year     20\n",
       "dtype: int64"
      ]
     },
     "execution_count": 30,
     "metadata": {},
     "output_type": "execute_result"
    }
   ],
   "source": [
    "titles[titles.title=='Hamlet'].count()"
   ]
  },
  {
   "cell_type": "markdown",
   "metadata": {
    "collapsed": true
   },
   "source": [
    "### How many movies are titled \"North by Northwest\"?"
   ]
  },
  {
   "cell_type": "code",
   "execution_count": 111,
   "metadata": {},
   "outputs": [],
   "source": [
    "y=titles[titles.title=='North by Northwest']\n"
   ]
  },
  {
   "cell_type": "code",
   "execution_count": 32,
   "metadata": {},
   "outputs": [
    {
     "data": {
      "text/plain": [
       "title    1\n",
       "year     1\n",
       "dtype: int64"
      ]
     },
     "execution_count": 32,
     "metadata": {},
     "output_type": "execute_result"
    }
   ],
   "source": [
    "titles[titles.title=='North by Northwest'].count()"
   ]
  },
  {
   "cell_type": "markdown",
   "metadata": {
    "collapsed": true
   },
   "source": [
    "### When was the first movie titled \"Hamlet\" made?"
   ]
  },
  {
   "cell_type": "code",
   "execution_count": 120,
   "metadata": {},
   "outputs": [
    {
     "data": {
      "text/plain": [
       "1910"
      ]
     },
     "execution_count": 120,
     "metadata": {},
     "output_type": "execute_result"
    }
   ],
   "source": [
    "titles[titles.title=='Hamlet'].sort_values('year').iloc[0,1]"
   ]
  },
  {
   "cell_type": "markdown",
   "metadata": {
    "collapsed": true
   },
   "source": [
    "### List all of the \"Treasure Island\" movies from earliest to most recent."
   ]
  },
  {
   "cell_type": "code",
   "execution_count": 121,
   "metadata": {},
   "outputs": [
    {
     "data": {
      "text/html": [
       "<div>\n",
       "<style scoped>\n",
       "    .dataframe tbody tr th:only-of-type {\n",
       "        vertical-align: middle;\n",
       "    }\n",
       "\n",
       "    .dataframe tbody tr th {\n",
       "        vertical-align: top;\n",
       "    }\n",
       "\n",
       "    .dataframe thead th {\n",
       "        text-align: right;\n",
       "    }\n",
       "</style>\n",
       "<table border=\"1\" class=\"dataframe\">\n",
       "  <thead>\n",
       "    <tr style=\"text-align: right;\">\n",
       "      <th></th>\n",
       "      <th>title</th>\n",
       "      <th>year</th>\n",
       "    </tr>\n",
       "  </thead>\n",
       "  <tbody>\n",
       "    <tr>\n",
       "      <th>55686</th>\n",
       "      <td>Treasure Island</td>\n",
       "      <td>1918</td>\n",
       "    </tr>\n",
       "    <tr>\n",
       "      <th>196514</th>\n",
       "      <td>Treasure Island</td>\n",
       "      <td>1920</td>\n",
       "    </tr>\n",
       "    <tr>\n",
       "      <th>141822</th>\n",
       "      <td>Treasure Island</td>\n",
       "      <td>1934</td>\n",
       "    </tr>\n",
       "    <tr>\n",
       "      <th>77354</th>\n",
       "      <td>Treasure Island</td>\n",
       "      <td>1950</td>\n",
       "    </tr>\n",
       "    <tr>\n",
       "      <th>65051</th>\n",
       "      <td>Treasure Island</td>\n",
       "      <td>1972</td>\n",
       "    </tr>\n",
       "    <tr>\n",
       "      <th>37238</th>\n",
       "      <td>Treasure Island</td>\n",
       "      <td>1973</td>\n",
       "    </tr>\n",
       "    <tr>\n",
       "      <th>173051</th>\n",
       "      <td>Treasure Island</td>\n",
       "      <td>1985</td>\n",
       "    </tr>\n",
       "    <tr>\n",
       "      <th>27076</th>\n",
       "      <td>Treasure Island</td>\n",
       "      <td>1999</td>\n",
       "    </tr>\n",
       "  </tbody>\n",
       "</table>\n",
       "</div>"
      ],
      "text/plain": [
       "                  title  year\n",
       "55686   Treasure Island  1918\n",
       "196514  Treasure Island  1920\n",
       "141822  Treasure Island  1934\n",
       "77354   Treasure Island  1950\n",
       "65051   Treasure Island  1972\n",
       "37238   Treasure Island  1973\n",
       "173051  Treasure Island  1985\n",
       "27076   Treasure Island  1999"
      ]
     },
     "execution_count": 121,
     "metadata": {},
     "output_type": "execute_result"
    }
   ],
   "source": [
    "titles[titles.title=='Treasure Island'].sort_values('year')"
   ]
  },
  {
   "cell_type": "markdown",
   "metadata": {
    "collapsed": true
   },
   "source": [
    "### How many movies were made in the year 1950?"
   ]
  },
  {
   "cell_type": "code",
   "execution_count": 173,
   "metadata": {},
   "outputs": [
    {
     "data": {
      "text/plain": [
       "1113"
      ]
     },
     "execution_count": 173,
     "metadata": {},
     "output_type": "execute_result"
    }
   ],
   "source": [
    "titles[titles['year']==1950].shape[0]\n"
   ]
  },
  {
   "cell_type": "markdown",
   "metadata": {
    "collapsed": true
   },
   "source": [
    "### How many movies were made in the year 1960?"
   ]
  },
  {
   "cell_type": "code",
   "execution_count": 174,
   "metadata": {},
   "outputs": [
    {
     "data": {
      "text/plain": [
       "1549"
      ]
     },
     "execution_count": 174,
     "metadata": {},
     "output_type": "execute_result"
    }
   ],
   "source": [
    "len(titles[titles['year']==1960])"
   ]
  },
  {
   "cell_type": "markdown",
   "metadata": {},
   "source": []
  },
  {
   "cell_type": "markdown",
   "metadata": {
    "collapsed": true
   },
   "source": [
    "### In what years has a movie titled \"Batman\" been released?"
   ]
  },
  {
   "cell_type": "code",
   "execution_count": 130,
   "metadata": {},
   "outputs": [
    {
     "data": {
      "text/html": [
       "<div>\n",
       "<style scoped>\n",
       "    .dataframe tbody tr th:only-of-type {\n",
       "        vertical-align: middle;\n",
       "    }\n",
       "\n",
       "    .dataframe tbody tr th {\n",
       "        vertical-align: top;\n",
       "    }\n",
       "\n",
       "    .dataframe thead th {\n",
       "        text-align: right;\n",
       "    }\n",
       "</style>\n",
       "<table border=\"1\" class=\"dataframe\">\n",
       "  <thead>\n",
       "    <tr style=\"text-align: right;\">\n",
       "      <th></th>\n",
       "      <th>title</th>\n",
       "      <th>year</th>\n",
       "    </tr>\n",
       "  </thead>\n",
       "  <tbody>\n",
       "    <tr>\n",
       "      <th>39349</th>\n",
       "      <td>Batman</td>\n",
       "      <td>1943</td>\n",
       "    </tr>\n",
       "    <tr>\n",
       "      <th>240896</th>\n",
       "      <td>Batman</td>\n",
       "      <td>1989</td>\n",
       "    </tr>\n",
       "  </tbody>\n",
       "</table>\n",
       "</div>"
      ],
      "text/plain": [
       "         title  year\n",
       "39349   Batman  1943\n",
       "240896  Batman  1989"
      ]
     },
     "execution_count": 130,
     "metadata": {},
     "output_type": "execute_result"
    }
   ],
   "source": [
    "years=titles[titles.title==\"Batman\"]\n",
    "years"
   ]
  },
  {
   "cell_type": "markdown",
   "metadata": {
    "collapsed": true
   },
   "source": [
    "### How many roles were there in the movie \"Inception\"?"
   ]
  },
  {
   "cell_type": "code",
   "execution_count": 141,
   "metadata": {},
   "outputs": [
    {
     "data": {
      "text/plain": [
       "78"
      ]
     },
     "execution_count": 141,
     "metadata": {},
     "output_type": "execute_result"
    }
   ],
   "source": [
    "len(cast[cast.title=='Inception'])"
   ]
  },
  {
   "cell_type": "markdown",
   "metadata": {},
   "source": [
    "How many roles in the movie \"Inception\" are NOT ranked by an \"n\" values?"
   ]
  },
  {
   "cell_type": "code",
   "execution_count": 143,
   "metadata": {},
   "outputs": [
    {
     "data": {
      "text/plain": [
       "27"
      ]
     },
     "execution_count": 143,
     "metadata": {},
     "output_type": "execute_result"
    }
   ],
   "source": [
    "x=cast[cast.title=='Inception']\n",
    "y=x[x.n.isnull()]\n",
    "len(y)"
   ]
  },
  {
   "cell_type": "markdown",
   "metadata": {
    "collapsed": true
   },
   "source": [
    "### But how many roles in the movie \"Inception\" did receive an \"n\" value?"
   ]
  },
  {
   "cell_type": "code",
   "execution_count": 144,
   "metadata": {},
   "outputs": [
    {
     "data": {
      "text/plain": [
       "51"
      ]
     },
     "execution_count": 144,
     "metadata": {},
     "output_type": "execute_result"
    }
   ],
   "source": [
    "z=cast[cast.title=='Inception']\n",
    "c=z[z.n.notnull()]\n",
    "len(c)"
   ]
  },
  {
   "cell_type": "markdown",
   "metadata": {
    "collapsed": true
   },
   "source": [
    "### Display the cast of \"North by Northwest\" in their correct \"n\"-value order, ignoring roles that did not earn a numeric \"n\" value."
   ]
  },
  {
   "cell_type": "code",
   "execution_count": 171,
   "metadata": {},
   "outputs": [
    {
     "data": {
      "text/html": [
       "<div>\n",
       "<style scoped>\n",
       "    .dataframe tbody tr th:only-of-type {\n",
       "        vertical-align: middle;\n",
       "    }\n",
       "\n",
       "    .dataframe tbody tr th {\n",
       "        vertical-align: top;\n",
       "    }\n",
       "\n",
       "    .dataframe thead th {\n",
       "        text-align: right;\n",
       "    }\n",
       "</style>\n",
       "<table border=\"1\" class=\"dataframe\">\n",
       "  <thead>\n",
       "    <tr style=\"text-align: right;\">\n",
       "      <th></th>\n",
       "      <th>title</th>\n",
       "      <th>year</th>\n",
       "      <th>name</th>\n",
       "      <th>type</th>\n",
       "      <th>character</th>\n",
       "      <th>n</th>\n",
       "    </tr>\n",
       "  </thead>\n",
       "  <tbody>\n",
       "    <tr>\n",
       "      <th>326774</th>\n",
       "      <td>Sleuth</td>\n",
       "      <td>2007</td>\n",
       "      <td>Michael Caine</td>\n",
       "      <td>actor</td>\n",
       "      <td>Andrew</td>\n",
       "      <td>1.0</td>\n",
       "    </tr>\n",
       "    <tr>\n",
       "      <th>1293634</th>\n",
       "      <td>Sleuth</td>\n",
       "      <td>2007</td>\n",
       "      <td>Jude Law</td>\n",
       "      <td>actor</td>\n",
       "      <td>Milo</td>\n",
       "      <td>2.0</td>\n",
       "    </tr>\n",
       "    <tr>\n",
       "      <th>1805907</th>\n",
       "      <td>Sleuth</td>\n",
       "      <td>2007</td>\n",
       "      <td>Harold Pinter</td>\n",
       "      <td>actor</td>\n",
       "      <td>Man on T.V.</td>\n",
       "      <td>3.0</td>\n",
       "    </tr>\n",
       "  </tbody>\n",
       "</table>\n",
       "</div>"
      ],
      "text/plain": [
       "          title  year           name   type    character    n\n",
       "326774   Sleuth  2007  Michael Caine  actor       Andrew  1.0\n",
       "1293634  Sleuth  2007       Jude Law  actor         Milo  2.0\n",
       "1805907  Sleuth  2007  Harold Pinter  actor  Man on T.V.  3.0"
      ]
     },
     "execution_count": 171,
     "metadata": {},
     "output_type": "execute_result"
    }
   ],
   "source": [
    "z=cast[cast.title==\"North by Northwest\"]\n",
    "x=a[a.n.notnull()]\n",
    "x"
   ]
  },
  {
   "cell_type": "markdown",
   "metadata": {
    "collapsed": true
   },
   "source": [
    "### Display the entire cast, in \"n\"-order, of the 1972 film \"Sleuth\"."
   ]
  },
  {
   "cell_type": "code",
   "execution_count": 146,
   "metadata": {},
   "outputs": [
    {
     "data": {
      "text/html": [
       "<div>\n",
       "<style scoped>\n",
       "    .dataframe tbody tr th:only-of-type {\n",
       "        vertical-align: middle;\n",
       "    }\n",
       "\n",
       "    .dataframe tbody tr th {\n",
       "        vertical-align: top;\n",
       "    }\n",
       "\n",
       "    .dataframe thead th {\n",
       "        text-align: right;\n",
       "    }\n",
       "</style>\n",
       "<table border=\"1\" class=\"dataframe\">\n",
       "  <thead>\n",
       "    <tr style=\"text-align: right;\">\n",
       "      <th></th>\n",
       "      <th>title</th>\n",
       "      <th>year</th>\n",
       "      <th>name</th>\n",
       "      <th>type</th>\n",
       "      <th>character</th>\n",
       "      <th>n</th>\n",
       "    </tr>\n",
       "  </thead>\n",
       "  <tbody>\n",
       "    <tr>\n",
       "      <th>1705394</th>\n",
       "      <td>Sleuth</td>\n",
       "      <td>1972</td>\n",
       "      <td>Laurence Olivier</td>\n",
       "      <td>actor</td>\n",
       "      <td>Andrew Wyke</td>\n",
       "      <td>1.0</td>\n",
       "    </tr>\n",
       "    <tr>\n",
       "      <th>326773</th>\n",
       "      <td>Sleuth</td>\n",
       "      <td>1972</td>\n",
       "      <td>Michael Caine</td>\n",
       "      <td>actor</td>\n",
       "      <td>Milo Tindle</td>\n",
       "      <td>2.0</td>\n",
       "    </tr>\n",
       "    <tr>\n",
       "      <th>373876</th>\n",
       "      <td>Sleuth</td>\n",
       "      <td>1972</td>\n",
       "      <td>Alec Cawthorne</td>\n",
       "      <td>actor</td>\n",
       "      <td>Inspector Doppler</td>\n",
       "      <td>3.0</td>\n",
       "    </tr>\n",
       "    <tr>\n",
       "      <th>1465483</th>\n",
       "      <td>Sleuth</td>\n",
       "      <td>1972</td>\n",
       "      <td>John (II) Matthews</td>\n",
       "      <td>actor</td>\n",
       "      <td>Detective Sergeant Tarrant</td>\n",
       "      <td>4.0</td>\n",
       "    </tr>\n",
       "    <tr>\n",
       "      <th>2724553</th>\n",
       "      <td>Sleuth</td>\n",
       "      <td>1972</td>\n",
       "      <td>Eve (III) Channing</td>\n",
       "      <td>actress</td>\n",
       "      <td>Marguerite Wyke</td>\n",
       "      <td>5.0</td>\n",
       "    </tr>\n",
       "    <tr>\n",
       "      <th>1448690</th>\n",
       "      <td>Sleuth</td>\n",
       "      <td>1972</td>\n",
       "      <td>Teddy Martin</td>\n",
       "      <td>actor</td>\n",
       "      <td>Police Constable Higgs</td>\n",
       "      <td>6.0</td>\n",
       "    </tr>\n",
       "  </tbody>\n",
       "</table>\n",
       "</div>"
      ],
      "text/plain": [
       "          title  year                name     type  \\\n",
       "1705394  Sleuth  1972    Laurence Olivier    actor   \n",
       "326773   Sleuth  1972       Michael Caine    actor   \n",
       "373876   Sleuth  1972      Alec Cawthorne    actor   \n",
       "1465483  Sleuth  1972  John (II) Matthews    actor   \n",
       "2724553  Sleuth  1972  Eve (III) Channing  actress   \n",
       "1448690  Sleuth  1972        Teddy Martin    actor   \n",
       "\n",
       "                          character    n  \n",
       "1705394                 Andrew Wyke  1.0  \n",
       "326773                  Milo Tindle  2.0  \n",
       "373876            Inspector Doppler  3.0  \n",
       "1465483  Detective Sergeant Tarrant  4.0  \n",
       "2724553             Marguerite Wyke  5.0  \n",
       "1448690      Police Constable Higgs  6.0  "
      ]
     },
     "execution_count": 146,
     "metadata": {},
     "output_type": "execute_result"
    }
   ],
   "source": [
    "cast[(cast.title==\"Sleuth\")&(cast.year==1972)].sort_values('n')"
   ]
  },
  {
   "cell_type": "markdown",
   "metadata": {
    "collapsed": true
   },
   "source": [
    "### Now display the entire cast, in \"n\"-order, of the 2007 version of \"Sleuth\"."
   ]
  },
  {
   "cell_type": "code",
   "execution_count": 170,
   "metadata": {},
   "outputs": [
    {
     "data": {
      "text/html": [
       "<div>\n",
       "<style scoped>\n",
       "    .dataframe tbody tr th:only-of-type {\n",
       "        vertical-align: middle;\n",
       "    }\n",
       "\n",
       "    .dataframe tbody tr th {\n",
       "        vertical-align: top;\n",
       "    }\n",
       "\n",
       "    .dataframe thead th {\n",
       "        text-align: right;\n",
       "    }\n",
       "</style>\n",
       "<table border=\"1\" class=\"dataframe\">\n",
       "  <thead>\n",
       "    <tr style=\"text-align: right;\">\n",
       "      <th></th>\n",
       "      <th>title</th>\n",
       "      <th>year</th>\n",
       "      <th>name</th>\n",
       "      <th>type</th>\n",
       "      <th>character</th>\n",
       "      <th>n</th>\n",
       "    </tr>\n",
       "  </thead>\n",
       "  <tbody>\n",
       "    <tr>\n",
       "      <th>326774</th>\n",
       "      <td>Sleuth</td>\n",
       "      <td>2007</td>\n",
       "      <td>Michael Caine</td>\n",
       "      <td>actor</td>\n",
       "      <td>Andrew</td>\n",
       "      <td>1.0</td>\n",
       "    </tr>\n",
       "    <tr>\n",
       "      <th>1293634</th>\n",
       "      <td>Sleuth</td>\n",
       "      <td>2007</td>\n",
       "      <td>Jude Law</td>\n",
       "      <td>actor</td>\n",
       "      <td>Milo</td>\n",
       "      <td>2.0</td>\n",
       "    </tr>\n",
       "    <tr>\n",
       "      <th>1805907</th>\n",
       "      <td>Sleuth</td>\n",
       "      <td>2007</td>\n",
       "      <td>Harold Pinter</td>\n",
       "      <td>actor</td>\n",
       "      <td>Man on T.V.</td>\n",
       "      <td>3.0</td>\n",
       "    </tr>\n",
       "  </tbody>\n",
       "</table>\n",
       "</div>"
      ],
      "text/plain": [
       "          title  year           name   type    character    n\n",
       "326774   Sleuth  2007  Michael Caine  actor       Andrew  1.0\n",
       "1293634  Sleuth  2007       Jude Law  actor         Milo  2.0\n",
       "1805907  Sleuth  2007  Harold Pinter  actor  Man on T.V.  3.0"
      ]
     },
     "execution_count": 170,
     "metadata": {},
     "output_type": "execute_result"
    }
   ],
   "source": [
    "s=cast[(cast.title==\"Sleuth\")& (cast.year==2007)].sort_values('n')\n",
    "a=s[s.n.notnull()]\n",
    "a"
   ]
  },
  {
   "cell_type": "markdown",
   "metadata": {
    "collapsed": true
   },
   "source": [
    "### How many roles were credited in the silent 1921 version of Hamlet?"
   ]
  },
  {
   "cell_type": "code",
   "execution_count": 148,
   "metadata": {},
   "outputs": [
    {
     "data": {
      "text/plain": [
       "9"
      ]
     },
     "execution_count": 148,
     "metadata": {},
     "output_type": "execute_result"
    }
   ],
   "source": [
    "len(cast[(cast.title=='Hamlet')&(cast.year==1921)])"
   ]
  },
  {
   "cell_type": "markdown",
   "metadata": {
    "collapsed": true
   },
   "source": [
    "### How many roles were credited in Branagh’s 1996 Hamlet?"
   ]
  },
  {
   "cell_type": "code",
   "execution_count": 149,
   "metadata": {},
   "outputs": [
    {
     "data": {
      "text/plain": [
       "54"
      ]
     },
     "execution_count": 149,
     "metadata": {},
     "output_type": "execute_result"
    }
   ],
   "source": [
    "len(cast[(cast.title=='Hamlet')&(cast.year==1996)])"
   ]
  },
  {
   "cell_type": "markdown",
   "metadata": {
    "collapsed": true
   },
   "source": [
    "### How many \"Hamlet\" roles have been listed in all film credits through history?"
   ]
  },
  {
   "cell_type": "code",
   "execution_count": 150,
   "metadata": {},
   "outputs": [
    {
     "data": {
      "text/plain": [
       "342"
      ]
     },
     "execution_count": 150,
     "metadata": {},
     "output_type": "execute_result"
    }
   ],
   "source": [
    "len(cast[(cast.title=='Hamlet')])"
   ]
  },
  {
   "cell_type": "markdown",
   "metadata": {
    "collapsed": true
   },
   "source": [
    "### How many people have played an \"Ophelia\"?"
   ]
  },
  {
   "cell_type": "code",
   "execution_count": 151,
   "metadata": {},
   "outputs": [
    {
     "data": {
      "text/html": [
       "<div>\n",
       "<style scoped>\n",
       "    .dataframe tbody tr th:only-of-type {\n",
       "        vertical-align: middle;\n",
       "    }\n",
       "\n",
       "    .dataframe tbody tr th {\n",
       "        vertical-align: top;\n",
       "    }\n",
       "\n",
       "    .dataframe thead th {\n",
       "        text-align: right;\n",
       "    }\n",
       "</style>\n",
       "<table border=\"1\" class=\"dataframe\">\n",
       "  <thead>\n",
       "    <tr style=\"text-align: right;\">\n",
       "      <th></th>\n",
       "      <th>title</th>\n",
       "      <th>year</th>\n",
       "      <th>name</th>\n",
       "      <th>type</th>\n",
       "      <th>character</th>\n",
       "      <th>n</th>\n",
       "    </tr>\n",
       "  </thead>\n",
       "  <tbody>\n",
       "    <tr>\n",
       "      <th>0</th>\n",
       "      <td>Closet Monster</td>\n",
       "      <td>2015</td>\n",
       "      <td>Buffy #1</td>\n",
       "      <td>actor</td>\n",
       "      <td>Buffy 4</td>\n",
       "      <td>31.0</td>\n",
       "    </tr>\n",
       "  </tbody>\n",
       "</table>\n",
       "</div>"
      ],
      "text/plain": [
       "            title  year      name   type character     n\n",
       "0  Closet Monster  2015  Buffy #1  actor   Buffy 4  31.0"
      ]
     },
     "execution_count": 151,
     "metadata": {},
     "output_type": "execute_result"
    }
   ],
   "source": [
    "cast.head(1)"
   ]
  },
  {
   "cell_type": "code",
   "execution_count": 152,
   "metadata": {},
   "outputs": [
    {
     "data": {
      "text/plain": [
       "117"
      ]
     },
     "execution_count": 152,
     "metadata": {},
     "output_type": "execute_result"
    }
   ],
   "source": [
    "len(cast[cast.character==\"Ophelia\"])"
   ]
  },
  {
   "cell_type": "markdown",
   "metadata": {
    "collapsed": true
   },
   "source": [
    "### How many people have played a role called \"The Dude\"?"
   ]
  },
  {
   "cell_type": "code",
   "execution_count": 153,
   "metadata": {},
   "outputs": [
    {
     "data": {
      "text/plain": [
       "19"
      ]
     },
     "execution_count": 153,
     "metadata": {},
     "output_type": "execute_result"
    }
   ],
   "source": [
    "len(cast[cast.character==\"The Dude\"])"
   ]
  },
  {
   "cell_type": "markdown",
   "metadata": {
    "collapsed": true
   },
   "source": [
    "### How many people have played a role called \"The Stranger\"?"
   ]
  },
  {
   "cell_type": "code",
   "execution_count": 154,
   "metadata": {},
   "outputs": [
    {
     "data": {
      "text/plain": [
       "212"
      ]
     },
     "execution_count": 154,
     "metadata": {},
     "output_type": "execute_result"
    }
   ],
   "source": [
    "len(cast[cast.character==\"The Stranger\"])"
   ]
  },
  {
   "cell_type": "markdown",
   "metadata": {
    "collapsed": true
   },
   "source": [
    "### How many roles has Sidney Poitier played throughout his career?"
   ]
  },
  {
   "cell_type": "code",
   "execution_count": 155,
   "metadata": {},
   "outputs": [
    {
     "data": {
      "text/plain": [
       "43"
      ]
     },
     "execution_count": 155,
     "metadata": {},
     "output_type": "execute_result"
    }
   ],
   "source": [
    "len(cast[cast.name==\"Sidney Poitier\"])"
   ]
  },
  {
   "cell_type": "markdown",
   "metadata": {
    "collapsed": true
   },
   "source": [
    "### How many roles has Judi Dench played?"
   ]
  },
  {
   "cell_type": "code",
   "execution_count": 156,
   "metadata": {},
   "outputs": [
    {
     "data": {
      "text/plain": [
       "55"
      ]
     },
     "execution_count": 156,
     "metadata": {},
     "output_type": "execute_result"
    }
   ],
   "source": [
    "len(cast[cast.name==\"Judi Dench\"])"
   ]
  },
  {
   "cell_type": "markdown",
   "metadata": {
    "collapsed": true
   },
   "source": [
    "### List the supporting roles (having n=2) played by Cary Grant in the 1940s, in order by year."
   ]
  },
  {
   "cell_type": "code",
   "execution_count": 157,
   "metadata": {},
   "outputs": [
    {
     "data": {
      "text/html": [
       "<div>\n",
       "<style scoped>\n",
       "    .dataframe tbody tr th:only-of-type {\n",
       "        vertical-align: middle;\n",
       "    }\n",
       "\n",
       "    .dataframe tbody tr th {\n",
       "        vertical-align: top;\n",
       "    }\n",
       "\n",
       "    .dataframe thead th {\n",
       "        text-align: right;\n",
       "    }\n",
       "</style>\n",
       "<table border=\"1\" class=\"dataframe\">\n",
       "  <thead>\n",
       "    <tr style=\"text-align: right;\">\n",
       "      <th></th>\n",
       "      <th>title</th>\n",
       "      <th>year</th>\n",
       "      <th>name</th>\n",
       "      <th>type</th>\n",
       "      <th>character</th>\n",
       "      <th>n</th>\n",
       "    </tr>\n",
       "  </thead>\n",
       "  <tbody>\n",
       "    <tr>\n",
       "      <th>871418</th>\n",
       "      <td>Madame Butterfly</td>\n",
       "      <td>1932</td>\n",
       "      <td>Cary Grant</td>\n",
       "      <td>actor</td>\n",
       "      <td>Lieutenant B.F. Pinkerton</td>\n",
       "      <td>2.0</td>\n",
       "    </tr>\n",
       "    <tr>\n",
       "      <th>871454</th>\n",
       "      <td>The Woman Accused</td>\n",
       "      <td>1933</td>\n",
       "      <td>Cary Grant</td>\n",
       "      <td>actor</td>\n",
       "      <td>Jeffrey Baxter</td>\n",
       "      <td>2.0</td>\n",
       "    </tr>\n",
       "    <tr>\n",
       "      <th>871446</th>\n",
       "      <td>The Eagle and the Hawk</td>\n",
       "      <td>1933</td>\n",
       "      <td>Cary Grant</td>\n",
       "      <td>actor</td>\n",
       "      <td>Henry Crocker</td>\n",
       "      <td>2.0</td>\n",
       "    </tr>\n",
       "    <tr>\n",
       "      <th>871412</th>\n",
       "      <td>I'm No Angel</td>\n",
       "      <td>1933</td>\n",
       "      <td>Cary Grant</td>\n",
       "      <td>actor</td>\n",
       "      <td>Jack Clayton</td>\n",
       "      <td>2.0</td>\n",
       "    </tr>\n",
       "    <tr>\n",
       "      <th>871436</th>\n",
       "      <td>She Done Him Wrong</td>\n",
       "      <td>1933</td>\n",
       "      <td>Cary Grant</td>\n",
       "      <td>actor</td>\n",
       "      <td>Captain Cummings</td>\n",
       "      <td>2.0</td>\n",
       "    </tr>\n",
       "    <tr>\n",
       "      <th>871393</th>\n",
       "      <td>Born to Be Bad</td>\n",
       "      <td>1934</td>\n",
       "      <td>Cary Grant</td>\n",
       "      <td>actor</td>\n",
       "      <td>Malcolm Trevor</td>\n",
       "      <td>2.0</td>\n",
       "    </tr>\n",
       "    <tr>\n",
       "      <th>871455</th>\n",
       "      <td>Thirty Day Princess</td>\n",
       "      <td>1934</td>\n",
       "      <td>Cary Grant</td>\n",
       "      <td>actor</td>\n",
       "      <td>Porter Madison III</td>\n",
       "      <td>2.0</td>\n",
       "    </tr>\n",
       "    <tr>\n",
       "      <th>871440</th>\n",
       "      <td>Sylvia Scarlett</td>\n",
       "      <td>1935</td>\n",
       "      <td>Cary Grant</td>\n",
       "      <td>actor</td>\n",
       "      <td>Jimmy Monkley</td>\n",
       "      <td>2.0</td>\n",
       "    </tr>\n",
       "    <tr>\n",
       "      <th>871401</th>\n",
       "      <td>Enter Madame!</td>\n",
       "      <td>1935</td>\n",
       "      <td>Cary Grant</td>\n",
       "      <td>actor</td>\n",
       "      <td>Gerald Fitzgerald</td>\n",
       "      <td>2.0</td>\n",
       "    </tr>\n",
       "    <tr>\n",
       "      <th>871465</th>\n",
       "      <td>Wings in the Dark</td>\n",
       "      <td>1935</td>\n",
       "      <td>Cary Grant</td>\n",
       "      <td>actor</td>\n",
       "      <td>Ken Gordon</td>\n",
       "      <td>2.0</td>\n",
       "    </tr>\n",
       "    <tr>\n",
       "      <th>871463</th>\n",
       "      <td>Wedding Present</td>\n",
       "      <td>1936</td>\n",
       "      <td>Cary Grant</td>\n",
       "      <td>actor</td>\n",
       "      <td>Charlie Mason</td>\n",
       "      <td>2.0</td>\n",
       "    </tr>\n",
       "    <tr>\n",
       "      <th>871464</th>\n",
       "      <td>When You're in Love</td>\n",
       "      <td>1937</td>\n",
       "      <td>Cary Grant</td>\n",
       "      <td>actor</td>\n",
       "      <td>Jimmy Hudson</td>\n",
       "      <td>2.0</td>\n",
       "    </tr>\n",
       "    <tr>\n",
       "      <th>871443</th>\n",
       "      <td>The Awful Truth</td>\n",
       "      <td>1937</td>\n",
       "      <td>Cary Grant</td>\n",
       "      <td>actor</td>\n",
       "      <td>Jerry Warriner</td>\n",
       "      <td>2.0</td>\n",
       "    </tr>\n",
       "    <tr>\n",
       "      <th>871453</th>\n",
       "      <td>The Toast of New York</td>\n",
       "      <td>1937</td>\n",
       "      <td>Cary Grant</td>\n",
       "      <td>actor</td>\n",
       "      <td>Nick Boyd</td>\n",
       "      <td>2.0</td>\n",
       "    </tr>\n",
       "    <tr>\n",
       "      <th>871459</th>\n",
       "      <td>Topper</td>\n",
       "      <td>1937</td>\n",
       "      <td>Cary Grant</td>\n",
       "      <td>actor</td>\n",
       "      <td>George Kerby</td>\n",
       "      <td>2.0</td>\n",
       "    </tr>\n",
       "    <tr>\n",
       "      <th>871408</th>\n",
       "      <td>Holiday</td>\n",
       "      <td>1938</td>\n",
       "      <td>Cary Grant</td>\n",
       "      <td>actor</td>\n",
       "      <td>Johnny Case</td>\n",
       "      <td>2.0</td>\n",
       "    </tr>\n",
       "    <tr>\n",
       "      <th>871394</th>\n",
       "      <td>Bringing Up Baby</td>\n",
       "      <td>1938</td>\n",
       "      <td>Cary Grant</td>\n",
       "      <td>actor</td>\n",
       "      <td>David</td>\n",
       "      <td>2.0</td>\n",
       "    </tr>\n",
       "    <tr>\n",
       "      <th>871413</th>\n",
       "      <td>In Name Only</td>\n",
       "      <td>1939</td>\n",
       "      <td>Cary Grant</td>\n",
       "      <td>actor</td>\n",
       "      <td>Alec Walker</td>\n",
       "      <td>2.0</td>\n",
       "    </tr>\n",
       "    <tr>\n",
       "      <th>871423</th>\n",
       "      <td>My Favorite Wife</td>\n",
       "      <td>1940</td>\n",
       "      <td>Cary Grant</td>\n",
       "      <td>actor</td>\n",
       "      <td>Nick Arden</td>\n",
       "      <td>2.0</td>\n",
       "    </tr>\n",
       "  </tbody>\n",
       "</table>\n",
       "</div>"
      ],
      "text/plain": [
       "                         title  year        name   type  \\\n",
       "871418        Madame Butterfly  1932  Cary Grant  actor   \n",
       "871454       The Woman Accused  1933  Cary Grant  actor   \n",
       "871446  The Eagle and the Hawk  1933  Cary Grant  actor   \n",
       "871412            I'm No Angel  1933  Cary Grant  actor   \n",
       "871436      She Done Him Wrong  1933  Cary Grant  actor   \n",
       "871393          Born to Be Bad  1934  Cary Grant  actor   \n",
       "871455     Thirty Day Princess  1934  Cary Grant  actor   \n",
       "871440         Sylvia Scarlett  1935  Cary Grant  actor   \n",
       "871401           Enter Madame!  1935  Cary Grant  actor   \n",
       "871465       Wings in the Dark  1935  Cary Grant  actor   \n",
       "871463         Wedding Present  1936  Cary Grant  actor   \n",
       "871464     When You're in Love  1937  Cary Grant  actor   \n",
       "871443         The Awful Truth  1937  Cary Grant  actor   \n",
       "871453   The Toast of New York  1937  Cary Grant  actor   \n",
       "871459                  Topper  1937  Cary Grant  actor   \n",
       "871408                 Holiday  1938  Cary Grant  actor   \n",
       "871394        Bringing Up Baby  1938  Cary Grant  actor   \n",
       "871413            In Name Only  1939  Cary Grant  actor   \n",
       "871423        My Favorite Wife  1940  Cary Grant  actor   \n",
       "\n",
       "                        character    n  \n",
       "871418  Lieutenant B.F. Pinkerton  2.0  \n",
       "871454             Jeffrey Baxter  2.0  \n",
       "871446              Henry Crocker  2.0  \n",
       "871412               Jack Clayton  2.0  \n",
       "871436           Captain Cummings  2.0  \n",
       "871393             Malcolm Trevor  2.0  \n",
       "871455         Porter Madison III  2.0  \n",
       "871440              Jimmy Monkley  2.0  \n",
       "871401          Gerald Fitzgerald  2.0  \n",
       "871465                 Ken Gordon  2.0  \n",
       "871463              Charlie Mason  2.0  \n",
       "871464               Jimmy Hudson  2.0  \n",
       "871443             Jerry Warriner  2.0  \n",
       "871453                  Nick Boyd  2.0  \n",
       "871459               George Kerby  2.0  \n",
       "871408                Johnny Case  2.0  \n",
       "871394                      David  2.0  \n",
       "871413                Alec Walker  2.0  \n",
       "871423                 Nick Arden  2.0  "
      ]
     },
     "execution_count": 157,
     "metadata": {},
     "output_type": "execute_result"
    }
   ],
   "source": [
    "cast[(cast.name==\"Cary Grant\")&(cast.n==2)&(cast.year<=1940)].sort_values('year')"
   ]
  },
  {
   "cell_type": "markdown",
   "metadata": {
    "collapsed": true
   },
   "source": [
    "### List the leading roles that Cary Grant played in the 1940s in order by year."
   ]
  },
  {
   "cell_type": "code",
   "execution_count": 160,
   "metadata": {},
   "outputs": [
    {
     "data": {
      "text/html": [
       "<div>\n",
       "<style scoped>\n",
       "    .dataframe tbody tr th:only-of-type {\n",
       "        vertical-align: middle;\n",
       "    }\n",
       "\n",
       "    .dataframe tbody tr th {\n",
       "        vertical-align: top;\n",
       "    }\n",
       "\n",
       "    .dataframe thead th {\n",
       "        text-align: right;\n",
       "    }\n",
       "</style>\n",
       "<table border=\"1\" class=\"dataframe\">\n",
       "  <thead>\n",
       "    <tr style=\"text-align: right;\">\n",
       "      <th></th>\n",
       "      <th>title</th>\n",
       "      <th>year</th>\n",
       "      <th>name</th>\n",
       "      <th>type</th>\n",
       "      <th>character</th>\n",
       "      <th>n</th>\n",
       "    </tr>\n",
       "  </thead>\n",
       "  <tbody>\n",
       "    <tr>\n",
       "      <th>871409</th>\n",
       "      <td>Hot Saturday</td>\n",
       "      <td>1932</td>\n",
       "      <td>Cary Grant</td>\n",
       "      <td>actor</td>\n",
       "      <td>Romer Sheffield</td>\n",
       "      <td>1.0</td>\n",
       "    </tr>\n",
       "    <tr>\n",
       "      <th>871404</th>\n",
       "      <td>Gambling Ship</td>\n",
       "      <td>1933</td>\n",
       "      <td>Cary Grant</td>\n",
       "      <td>actor</td>\n",
       "      <td>Ace Corbin</td>\n",
       "      <td>1.0</td>\n",
       "    </tr>\n",
       "    <tr>\n",
       "      <th>871415</th>\n",
       "      <td>Kiss and Make-Up</td>\n",
       "      <td>1934</td>\n",
       "      <td>Cary Grant</td>\n",
       "      <td>actor</td>\n",
       "      <td>Dr. Maurice Lamar</td>\n",
       "      <td>1.0</td>\n",
       "    </tr>\n",
       "    <tr>\n",
       "      <th>871417</th>\n",
       "      <td>Ladies Should Listen</td>\n",
       "      <td>1934</td>\n",
       "      <td>Cary Grant</td>\n",
       "      <td>actor</td>\n",
       "      <td>Julian De Lussac</td>\n",
       "      <td>1.0</td>\n",
       "    </tr>\n",
       "    <tr>\n",
       "      <th>871449</th>\n",
       "      <td>The Last Outpost</td>\n",
       "      <td>1935</td>\n",
       "      <td>Cary Grant</td>\n",
       "      <td>actor</td>\n",
       "      <td>Michael Andrews</td>\n",
       "      <td>1.0</td>\n",
       "    </tr>\n",
       "    <tr>\n",
       "      <th>871391</th>\n",
       "      <td>Big Brown Eyes</td>\n",
       "      <td>1936</td>\n",
       "      <td>Cary Grant</td>\n",
       "      <td>actor</td>\n",
       "      <td>Danny Barr</td>\n",
       "      <td>1.0</td>\n",
       "    </tr>\n",
       "    <tr>\n",
       "      <th>871442</th>\n",
       "      <td>The Amazing Quest of Ernest Bliss</td>\n",
       "      <td>1936</td>\n",
       "      <td>Cary Grant</td>\n",
       "      <td>actor</td>\n",
       "      <td>Ernest Bliss</td>\n",
       "      <td>1.0</td>\n",
       "    </tr>\n",
       "    <tr>\n",
       "      <th>871406</th>\n",
       "      <td>Gunga Din</td>\n",
       "      <td>1939</td>\n",
       "      <td>Cary Grant</td>\n",
       "      <td>actor</td>\n",
       "      <td>Cutter</td>\n",
       "      <td>1.0</td>\n",
       "    </tr>\n",
       "    <tr>\n",
       "      <th>871431</th>\n",
       "      <td>Only Angels Have Wings</td>\n",
       "      <td>1939</td>\n",
       "      <td>Cary Grant</td>\n",
       "      <td>actor</td>\n",
       "      <td>Geoff Carter</td>\n",
       "      <td>1.0</td>\n",
       "    </tr>\n",
       "    <tr>\n",
       "      <th>871407</th>\n",
       "      <td>His Girl Friday</td>\n",
       "      <td>1940</td>\n",
       "      <td>Cary Grant</td>\n",
       "      <td>actor</td>\n",
       "      <td>Walter Burns</td>\n",
       "      <td>1.0</td>\n",
       "    </tr>\n",
       "    <tr>\n",
       "      <th>871448</th>\n",
       "      <td>The Howards of Virginia</td>\n",
       "      <td>1940</td>\n",
       "      <td>Cary Grant</td>\n",
       "      <td>actor</td>\n",
       "      <td>Matt Howard</td>\n",
       "      <td>1.0</td>\n",
       "    </tr>\n",
       "    <tr>\n",
       "      <th>871450</th>\n",
       "      <td>The Philadelphia Story</td>\n",
       "      <td>1940</td>\n",
       "      <td>Cary Grant</td>\n",
       "      <td>actor</td>\n",
       "      <td>C. K. Dexter Haven</td>\n",
       "      <td>1.0</td>\n",
       "    </tr>\n",
       "  </tbody>\n",
       "</table>\n",
       "</div>"
      ],
      "text/plain": [
       "                                    title  year        name   type  \\\n",
       "871409                       Hot Saturday  1932  Cary Grant  actor   \n",
       "871404                      Gambling Ship  1933  Cary Grant  actor   \n",
       "871415                   Kiss and Make-Up  1934  Cary Grant  actor   \n",
       "871417               Ladies Should Listen  1934  Cary Grant  actor   \n",
       "871449                   The Last Outpost  1935  Cary Grant  actor   \n",
       "871391                     Big Brown Eyes  1936  Cary Grant  actor   \n",
       "871442  The Amazing Quest of Ernest Bliss  1936  Cary Grant  actor   \n",
       "871406                          Gunga Din  1939  Cary Grant  actor   \n",
       "871431             Only Angels Have Wings  1939  Cary Grant  actor   \n",
       "871407                    His Girl Friday  1940  Cary Grant  actor   \n",
       "871448            The Howards of Virginia  1940  Cary Grant  actor   \n",
       "871450             The Philadelphia Story  1940  Cary Grant  actor   \n",
       "\n",
       "                 character    n  \n",
       "871409     Romer Sheffield  1.0  \n",
       "871404          Ace Corbin  1.0  \n",
       "871415   Dr. Maurice Lamar  1.0  \n",
       "871417    Julian De Lussac  1.0  \n",
       "871449     Michael Andrews  1.0  \n",
       "871391          Danny Barr  1.0  \n",
       "871442        Ernest Bliss  1.0  \n",
       "871406              Cutter  1.0  \n",
       "871431        Geoff Carter  1.0  \n",
       "871407        Walter Burns  1.0  \n",
       "871448         Matt Howard  1.0  \n",
       "871450  C. K. Dexter Haven  1.0  "
      ]
     },
     "execution_count": 160,
     "metadata": {},
     "output_type": "execute_result"
    }
   ],
   "source": [
    "cast[(cast.name==\"Cary Grant\")&(cast.n==1)&(cast.year<=1940)].sort_values('year')"
   ]
  },
  {
   "cell_type": "markdown",
   "metadata": {
    "collapsed": true
   },
   "source": [
    "### How many roles were available for actors in the 1950s?"
   ]
  },
  {
   "cell_type": "code",
   "execution_count": 161,
   "metadata": {},
   "outputs": [
    {
     "data": {
      "text/plain": [
       "16760"
      ]
     },
     "execution_count": 161,
     "metadata": {},
     "output_type": "execute_result"
    }
   ],
   "source": [
    "len(cast[(cast.type=='actor')&(cast.year==1950)])"
   ]
  },
  {
   "cell_type": "markdown",
   "metadata": {
    "collapsed": true
   },
   "source": [
    "### How many roles were available for actresses in the 1950s?"
   ]
  },
  {
   "cell_type": "code",
   "execution_count": 163,
   "metadata": {},
   "outputs": [
    {
     "data": {
      "text/plain": [
       "57733"
      ]
     },
     "execution_count": 163,
     "metadata": {},
     "output_type": "execute_result"
    }
   ],
   "source": [
    "cast[(cast.type=='actress')&(cast.year<1960)&(cast.year>=1950)].character.count()"
   ]
  },
  {
   "cell_type": "markdown",
   "metadata": {
    "collapsed": true
   },
   "source": [
    "### How many leading roles (n=1) were available from the beginning of film history through 1980?"
   ]
  },
  {
   "cell_type": "code",
   "execution_count": 164,
   "metadata": {},
   "outputs": [
    {
     "data": {
      "text/plain": [
       "65140"
      ]
     },
     "execution_count": 164,
     "metadata": {},
     "output_type": "execute_result"
    }
   ],
   "source": [
    "len(cast[(cast.n==1)&(cast.year<=1980)])"
   ]
  },
  {
   "cell_type": "markdown",
   "metadata": {
    "collapsed": true
   },
   "source": [
    "### How many non-leading roles were available through from the beginning of film history through 1980?"
   ]
  },
  {
   "cell_type": "code",
   "execution_count": 165,
   "metadata": {},
   "outputs": [
    {
     "data": {
      "text/plain": [
       "1117667"
      ]
     },
     "execution_count": 165,
     "metadata": {},
     "output_type": "execute_result"
    }
   ],
   "source": [
    "len(cast[(cast.n!=1)&(cast.year<=1980)])"
   ]
  },
  {
   "cell_type": "markdown",
   "metadata": {
    "collapsed": true
   },
   "source": [
    "### How many roles through 1980 were minor enough that they did not warrant a numeric \"n\" rank?"
   ]
  },
  {
   "cell_type": "code",
   "execution_count": 166,
   "metadata": {},
   "outputs": [
    {
     "data": {
      "text/plain": [
       "448347"
      ]
     },
     "execution_count": 166,
     "metadata": {},
     "output_type": "execute_result"
    }
   ],
   "source": [
    "len(cast[(cast.n.isna())&(cast.year<=1980)])"
   ]
  }
 ],
 "metadata": {
  "kernelspec": {
   "display_name": "Python 3",
   "language": "python",
   "name": "python3"
  },
  "language_info": {
   "codemirror_mode": {
    "name": "ipython",
    "version": 3
   },
   "file_extension": ".py",
   "mimetype": "text/x-python",
   "name": "python",
   "nbconvert_exporter": "python",
   "pygments_lexer": "ipython3",
   "version": "3.7.3"
  }
 },
 "nbformat": 4,
 "nbformat_minor": 1
}
