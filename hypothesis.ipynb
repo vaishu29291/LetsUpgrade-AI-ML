{
 "cells": [
  {
   "cell_type": "markdown",
   "metadata": {},
   "source": [
    "# Hypothesis 1 :"
   ]
  },
  {
   "cell_type": "raw",
   "metadata": {},
   "source": [
    "TO check ages of sample and population are same or different."
   ]
  },
  {
   "cell_type": "code",
   "execution_count": 18,
   "metadata": {},
   "outputs": [],
   "source": [
    "import numpy as np\n",
    "import pandas as pd\n",
    "import matplotlib.pyplot as plt\n",
    "dataset=pd.read_csv('general_data.csv')\n",
    "\n"
   ]
  },
  {
   "cell_type": "code",
   "execution_count": 11,
   "metadata": {},
   "outputs": [
    {
     "name": "stdout",
     "output_type": "stream",
     "text": [
      "36.923809523809524\n"
     ]
    }
   ],
   "source": [
    "ages_mean=np.mean(dataset.Age)\n",
    "print(ages_mean)"
   ]
  },
  {
   "cell_type": "raw",
   "metadata": {},
   "source": [
    "# one sample T test"
   ]
  },
  {
   "cell_type": "code",
   "execution_count": 13,
   "metadata": {},
   "outputs": [],
   "source": [
    "#taking sample of ages and computing a mean\n",
    "#to check weather there is difference between sample mean and population mean\n",
    "#alternate hypothesis says that there is difference and null hypothesis says no difference\n",
    "sample_size=10\n",
    "age_sample=np.random.choice(dataset.Age,sample_size)"
   ]
  },
  {
   "cell_type": "code",
   "execution_count": 14,
   "metadata": {},
   "outputs": [
    {
     "data": {
      "text/plain": [
       "array([39, 32, 42, 51, 36, 36, 30, 26, 51, 34], dtype=int64)"
      ]
     },
     "execution_count": 14,
     "metadata": {},
     "output_type": "execute_result"
    }
   ],
   "source": [
    "age_sample"
   ]
  },
  {
   "cell_type": "code",
   "execution_count": 19,
   "metadata": {},
   "outputs": [
    {
     "name": "stdout",
     "output_type": "stream",
     "text": [
      "0.5340270730264365\n"
     ]
    }
   ],
   "source": [
    "#one sample hypothesis is to compute p value\n",
    "from scipy.stats import ttest_1samp\n",
    "ttest,p_value=ttest_1samp(age_sample,36)\n",
    "print(p_value)"
   ]
  },
  {
   "cell_type": "code",
   "execution_count": 20,
   "metadata": {},
   "outputs": [
    {
     "name": "stdout",
     "output_type": "stream",
     "text": [
      "we are accepting null hypothesis\n"
     ]
    }
   ],
   "source": [
    "if p_value<0.05:\n",
    "    print(\"we are rejecting null hypothesis\")#it means there is difference in sample and population\n",
    "    #mean\n",
    "else:\n",
    "    print(\"we are accepting null hypothesis\")#it means there is no difference\n",
    "    \n",
    "    "
   ]
  },
  {
   "cell_type": "markdown",
   "metadata": {},
   "source": [
    "# Hypothesis 2:"
   ]
  },
  {
   "cell_type": "raw",
   "metadata": {},
   "source": [
    "The average age of employee in a company is 35 with standard deviation 10.A researcher\n",
    "believes that if age is less than 35 there is higher attrition rate.Taking a sample of 50 employee with average being 37 and level of significance is 0.05. "
   ]
  },
  {
   "cell_type": "markdown",
   "metadata": {},
   "source": [
    "# Hypothesis 3:"
   ]
  },
  {
   "cell_type": "raw",
   "metadata": {},
   "source": [
    " #Null Hypothesis:\n",
    "\n",
    "The mean age of an employee who as attrited is found to be 33 with standard deviation of 9.67. \n",
    "3Alternative hypothesis:\n",
    "\n",
    "The mean age of an employee who as attrited is not equal to 33. To determine if this is true, a sample of 25 attrited employees was taken and their mean age was found to be 30."
   ]
  },
  {
   "cell_type": "markdown",
   "metadata": {},
   "source": [
    "# Hypothesis 4:"
   ]
  },
  {
   "cell_type": "markdown",
   "metadata": {},
   "source": [
    "\n",
    "##Null Hypothesis:\n",
    "The mean monthly income of attrited employees was found to be Rs.61,000 with a standard deviation of 44792.\n",
    "\n",
    "##Alternative Hypothesis:\n",
    "\n",
    "The monthly income of attrited employees is not Rs.61000.\n",
    "To determine if this is true, a sample of 25 attrited employees was taken and their mean monthly income was found to be Rs.48,185."
   ]
  },
  {
   "cell_type": "markdown",
   "metadata": {},
   "source": [
    "# Hypothesis 5:"
   ]
  },
  {
   "cell_type": "markdown",
   "metadata": {},
   "source": [
    "#Null Hypothesis:\n",
    "The mean monthly income of attrited employees was found to be Rs.49,016 with a standard deviation of 32033.\n",
    "\n",
    "#Alternative Hypothesis:\n",
    "\n",
    "The monthly income of attrited employees is not Rs.49,016\n",
    "To determine if this is true, a sample of 30 attrited employees was taken and their mean monthly income was found to be Rs.17995."
   ]
  },
  {
   "cell_type": "markdown",
   "metadata": {},
   "source": [
    "# Hypothesis 6:"
   ]
  },
  {
   "cell_type": "markdown",
   "metadata": {},
   "source": [
    "Null Hypothesis:\n",
    "The mean monthly income of attrited employees was found to be Rs.64595 with a standard deviation of 50430.\n",
    "Alternative Hypothesis:\n",
    "The monthly income of attrited employees is not Rs.64595\n",
    "To determine if this is true, a sample of 40 attrited employees was taken ."
   ]
  },
  {
   "cell_type": "markdown",
   "metadata": {},
   "source": [
    "# Hypothesis 7:"
   ]
  },
  {
   "cell_type": "markdown",
   "metadata": {},
   "source": [
    "\n",
    "#Null Hypothesis:\n",
    "The mean PercentSalary Hike of attrited employees was found to be 16. with a standard deviation of 3.\n",
    "\n",
    "#Alternative Hypothesis:\n",
    "The monthly income of attrited employees is not 16\n",
    "To determine if this is true, a sample of 25 attrited employees was taken ."
   ]
  },
  {
   "cell_type": "markdown",
   "metadata": {},
   "source": [
    "# Hypothesis 8:"
   ]
  },
  {
   "cell_type": "markdown",
   "metadata": {},
   "source": [
    "#Null Hypothesis:\n",
    "The minimum monthly income of attrited employees was found to be Rs.12740. with a standard deviation of 41161.\n",
    "\n",
    "#alternative Hypothesis:\n",
    "The minimum monthly income of attrited employees is not Rs.12740\n",
    "To determine if this is true, a sample of 25 attrited employees was taken ."
   ]
  },
  {
   "cell_type": "markdown",
   "metadata": {},
   "source": [
    "# Hypothesis 9:"
   ]
  },
  {
   "cell_type": "markdown",
   "metadata": {},
   "source": [
    "\n",
    "#Null Hypothesis:\n",
    "The minimum monthly income of attrited employees was found to be Rs.21740. with a standard deviation of 50430.\n",
    "#Alternative Hypothesis:\n",
    "The minimum monthly income of attrited employees is not Rs.21740\n",
    "To determine if this is true, a sample of 40 attrited employees was taken ."
   ]
  },
  {
   "cell_type": "markdown",
   "metadata": {},
   "source": [
    "# Hypothesis 10:"
   ]
  },
  {
   "cell_type": "markdown",
   "metadata": {},
   "source": [
    "#Null Hypothesis:\n",
    "The maximum monthly income of attrited employees was found to be Rs.198590. with a standard deviation of 50430.\n",
    "#Alternative Hypothesis:\n",
    "The minimum monthly income of attrited employees is not Rs.198590.\n",
    "To determine if this is true, a sample of 40 attrited employees was taken ."
   ]
  },
  {
   "cell_type": "code",
   "execution_count": null,
   "metadata": {},
   "outputs": [],
   "source": []
  }
 ],
 "metadata": {
  "kernelspec": {
   "display_name": "Python 3",
   "language": "python",
   "name": "python3"
  },
  "language_info": {
   "codemirror_mode": {
    "name": "ipython",
    "version": 3
   },
   "file_extension": ".py",
   "mimetype": "text/x-python",
   "name": "python",
   "nbconvert_exporter": "python",
   "pygments_lexer": "ipython3",
   "version": "3.7.3"
  }
 },
 "nbformat": 4,
 "nbformat_minor": 2
}
