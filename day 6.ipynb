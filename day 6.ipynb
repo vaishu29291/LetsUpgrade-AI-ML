{
 "cells": [
  {
   "cell_type": "raw",
   "metadata": {},
   "source": [
    "Q1:Assuming that we have some email addresses in the \"username@companyname.com\" format, please write program\n",
    "to print the company name of a given email address. Both user names and company names are composed of letters\n",
    "only."
   ]
  },
  {
   "cell_type": "code",
   "execution_count": 9,
   "metadata": {},
   "outputs": [
    {
     "name": "stdout",
     "output_type": "stream",
     "text": [
      "enter your email address:john@google.com\n",
      "google"
     ]
    }
   ],
   "source": [
    "email=input(\"enter your email address:\")\n",
    "add=email.index(\"@\")\n",
    "addx=email.index(\".\")\n",
    "print(email[add+1 : addx],end='')"
   ]
  },
  {
   "cell_type": "raw",
   "metadata": {},
   "source": [
    "Q2:Write a program that accepts a comma-separated sequence of words as input and prints the words in a comma\n",
    "separated sequence after sorting them alphabetically"
   ]
  },
  {
   "cell_type": "code",
   "execution_count": 1,
   "metadata": {},
   "outputs": [
    {
     "name": "stdout",
     "output_type": "stream",
     "text": [
      "enter sequence of wordsrichi,suchi,nani,leela\n",
      "sorted sequence of words are leela,nani,richi,suchi\n"
     ]
    }
   ],
   "source": [
    "name=input(\"enter sequence of words\")\n",
    "words=list(map(lambda x:x,name.split(',')))\n",
    "words.sort()\n",
    "print(\"sorted sequence of words are\", ','.join(words))"
   ]
  },
  {
   "cell_type": "raw",
   "metadata": {},
   "source": [
    "Q3:Create your own Jupyter Notebook for Sets."
   ]
  },
  {
   "cell_type": "code",
   "execution_count": 10,
   "metadata": {},
   "outputs": [
    {
     "name": "stdout",
     "output_type": "stream",
     "text": [
      "{'cherry', 'mango', 'apple'}\n"
     ]
    }
   ],
   "source": [
    "x={\"apple\",\"mango\",\"cherry\"}\n",
    "print(x)"
   ]
  },
  {
   "cell_type": "code",
   "execution_count": 12,
   "metadata": {},
   "outputs": [
    {
     "name": "stdout",
     "output_type": "stream",
     "text": [
      "{'cherry', 'mango', 'orange', 'apple'}\n"
     ]
    }
   ],
   "source": [
    "# add()\n",
    "x={\"apple\",\"mango\",\"cherry\"}\n",
    "x.add(\"orange\")\n",
    "print(x)"
   ]
  },
  {
   "cell_type": "code",
   "execution_count": 15,
   "metadata": {},
   "outputs": [
    {
     "name": "stdout",
     "output_type": "stream",
     "text": [
      "{'mango', 'apple'}\n",
      "{'mango'}\n"
     ]
    }
   ],
   "source": [
    "#pop()\n",
    "x={\"apple\",\"mango\",\"cherry\"}\n",
    "x.pop()\n",
    "print(x)\n",
    "\n",
    "#remove()\n",
    "x.remove(\"apple\")\n",
    "print(x)"
   ]
  },
  {
   "cell_type": "code",
   "execution_count": 16,
   "metadata": {},
   "outputs": [
    {
     "name": "stdout",
     "output_type": "stream",
     "text": [
      "set()\n"
     ]
    }
   ],
   "source": [
    "x={\"apple\",\"mango\",\"cherry\",\"banana\"}\n",
    "x.clear()\n",
    "print(x)"
   ]
  },
  {
   "cell_type": "raw",
   "metadata": {},
   "source": [
    "Q4:Given a list of n-1 numbers ranging from 1 to n, your task is to find the missing number. There are no duplicates"
   ]
  },
  {
   "cell_type": "code",
   "execution_count": 4,
   "metadata": {},
   "outputs": [
    {
     "name": "stdout",
     "output_type": "stream",
     "text": [
      "input value :1 2 4 6 3 7 8\n",
      "the missing value is : 5\n"
     ]
    }
   ],
   "source": [
    "lst=list(map(int,input('input value :').split()))\n",
    "for i in range(1,lst[-1]+1):\n",
    "    if i not in lst:\n",
    "        print('the missing value is :',i)"
   ]
  },
  {
   "cell_type": "raw",
   "metadata": {},
   "source": [
    "Q5:With a given list L, write a program to print this list L after removing all duplicate values with original order reserved."
   ]
  },
  {
   "cell_type": "code",
   "execution_count": 1,
   "metadata": {},
   "outputs": [
    {
     "name": "stdout",
     "output_type": "stream",
     "text": [
      "12 24 34 12\n",
      "12 24 34\n"
     ]
    }
   ],
   "source": [
    "k=list(map(int,input().strip().split()))\n",
    "x=sorted(set(k))\n",
    "x=list(map(str,x))\n",
    "print(' '.join(x))"
   ]
  }
 ],
 "metadata": {
  "kernelspec": {
   "display_name": "Python 3",
   "language": "python",
   "name": "python3"
  },
  "language_info": {
   "codemirror_mode": {
    "name": "ipython",
    "version": 3
   },
   "file_extension": ".py",
   "mimetype": "text/x-python",
   "name": "python",
   "nbconvert_exporter": "python",
   "pygments_lexer": "ipython3",
   "version": "3.7.3"
  }
 },
 "nbformat": 4,
 "nbformat_minor": 2
}
