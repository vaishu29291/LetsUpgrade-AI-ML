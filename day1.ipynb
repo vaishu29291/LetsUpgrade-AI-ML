{
 "cells": [
  {
   "cell_type": "raw",
   "metadata": {},
   "source": [
    "# Q1: Python program to subtract two complex numbers using python"
   ]
  },
  {
   "cell_type": "code",
   "execution_count": 3,
   "metadata": {},
   "outputs": [
    {
     "name": "stdout",
     "output_type": "stream",
     "text": [
      "subtract of two numbers is (1+1j)\n"
     ]
    }
   ],
   "source": [
    "a=complex(2,3)\n",
    "b=complex(1,2)\n",
    "sub=a-b\n",
    "print(\"subtract of two numbers is\",sub)"
   ]
  },
  {
   "cell_type": "raw",
   "metadata": {},
   "source": [
    "# Q2:python program to find the fourth root of a number\n"
   ]
  },
  {
   "cell_type": "code",
   "execution_count": 4,
   "metadata": {},
   "outputs": [
    {
     "name": "stdout",
     "output_type": "stream",
     "text": [
      "fourth root of a number is  2.0\n"
     ]
    }
   ],
   "source": [
    "a=16\n",
    "c=a**(1/4)\n",
    "print(\"fourth root of a number is \",c)"
   ]
  },
  {
   "cell_type": "raw",
   "metadata": {},
   "source": [
    "# Q3:program to swap two numbers in python with the help of a temporary variable"
   ]
  },
  {
   "cell_type": "code",
   "execution_count": 5,
   "metadata": {},
   "outputs": [
    {
     "name": "stdout",
     "output_type": "stream",
     "text": [
      "value of x 20\n",
      "value of y 10\n"
     ]
    }
   ],
   "source": [
    "x=10\n",
    "y=20\n",
    "temp=x\n",
    "x=y\n",
    "y=temp\n",
    "print(\"value of x\",x)\n",
    "print(\"value of y\",y)"
   ]
  },
  {
   "cell_type": "raw",
   "metadata": {},
   "source": [
    "#Q4: program to swap two numbers in python without using temporary variable"
   ]
  },
  {
   "cell_type": "code",
   "execution_count": 7,
   "metadata": {},
   "outputs": [
    {
     "name": "stdout",
     "output_type": "stream",
     "text": [
      "value of x 20\n",
      "value of y 10\n"
     ]
    }
   ],
   "source": [
    "x=10\n",
    "y=20\n",
    "x,y=y,x\n",
    "print(\"value of x\",x)\n",
    "print(\"value of y\",y)"
   ]
  },
  {
   "cell_type": "raw",
   "metadata": {},
   "source": [
    "#Q5: program to convert fahrenheit to kelvin and celsius both"
   ]
  },
  {
   "cell_type": "raw",
   "metadata": {},
   "source": [
    "a:To concert fahrenheit to celsius"
   ]
  },
  {
   "cell_type": "code",
   "execution_count": 8,
   "metadata": {},
   "outputs": [
    {
     "name": "stdout",
     "output_type": "stream",
     "text": [
      "Enter temperature in fahrenheit: 99\n",
      "99.00 Fahrenheit is: 37.22 Celsius\n"
     ]
    }
   ],
   "source": [
    "fahrenheit = float(input(\"Enter temperature in fahrenheit: \"))\n",
    "celsius = (fahrenheit - 32) * 5/9\n",
    "print('%.2f Fahrenheit is: %0.2f Celsius' %(fahrenheit, celsius))"
   ]
  },
  {
   "cell_type": "code",
   "execution_count": null,
   "metadata": {},
   "outputs": [],
   "source": [
    "b: To concert fahrenheit to Kelvin"
   ]
  },
  {
   "cell_type": "code",
   "execution_count": 2,
   "metadata": {},
   "outputs": [
    {
     "name": "stdout",
     "output_type": "stream",
     "text": [
      "Enter temperature in fahrenheit: 20\n",
      "20.00 Fahrenheit is: 266.83 Kelvin\n"
     ]
    }
   ],
   "source": [
    "fahrenheit = float(input(\"Enter temperature in fahrenheit: \"))\n",
    "Kelvin = 273.5 + ((fahrenheit - 32.0) * (5.0/9.0)) \n",
    "print('%.2f Fahrenheit is: %0.2f Kelvin' %(fahrenheit,Kelvin ))"
   ]
  },
  {
   "cell_type": "raw",
   "metadata": {},
   "source": [
    "#Q6: program to demonstrate all the datatypes in python using type()"
   ]
  },
  {
   "cell_type": "code",
   "execution_count": 3,
   "metadata": {},
   "outputs": [
    {
     "data": {
      "text/plain": [
       "int"
      ]
     },
     "execution_count": 3,
     "metadata": {},
     "output_type": "execute_result"
    }
   ],
   "source": [
    "a=10\n",
    "type(a)"
   ]
  },
  {
   "cell_type": "code",
   "execution_count": 4,
   "metadata": {},
   "outputs": [
    {
     "data": {
      "text/plain": [
       "float"
      ]
     },
     "execution_count": 4,
     "metadata": {},
     "output_type": "execute_result"
    }
   ],
   "source": [
    "b=20.9\n",
    "type(b)"
   ]
  },
  {
   "cell_type": "code",
   "execution_count": 5,
   "metadata": {},
   "outputs": [
    {
     "data": {
      "text/plain": [
       "str"
      ]
     },
     "execution_count": 5,
     "metadata": {},
     "output_type": "execute_result"
    }
   ],
   "source": [
    "c=\"vaishnavi\"\n",
    "type(c)"
   ]
  },
  {
   "cell_type": "code",
   "execution_count": 8,
   "metadata": {},
   "outputs": [
    {
     "data": {
      "text/plain": [
       "complex"
      ]
     },
     "execution_count": 8,
     "metadata": {},
     "output_type": "execute_result"
    }
   ],
   "source": [
    "a=3+4j\n",
    "type(a)"
   ]
  },
  {
   "cell_type": "code",
   "execution_count": 14,
   "metadata": {},
   "outputs": [
    {
     "name": "stdout",
     "output_type": "stream",
     "text": [
      "enter the number10\n",
      "addition of two numbers is 30\n",
      "<class 'int'>\n",
      "enter the number20.9\n",
      "subtraction of two numbers is -9.899999999999999\n",
      "<class 'float'>\n",
      "enter the string vaishnavi\n",
      "<class 'str'>\n"
     ]
    }
   ],
   "source": [
    "i=int(input(\"enter the number\"))\n",
    "a=10\n",
    "b=20\n",
    "c=a+b\n",
    "print(\"addition of two numbers is\",c)\n",
    "print(type(i))\n",
    "f=float(input(\"enter the number\"))\n",
    "a=10.3\n",
    "b=20.2\n",
    "sub=a-b\n",
    "print(\"subtraction of two numbers is\",sub)\n",
    "print(type(f))\n",
    "s=str(input(\"enter the string \" ))\n",
    "print(type(s))\n",
    "\n"
   ]
  },
  {
   "cell_type": "markdown",
   "metadata": {},
   "source": [
    "#Q7: steps tp create a github profile and upload githubs assignments link"
   ]
  },
  {
   "cell_type": "markdown",
   "metadata": {},
   "source": [
    "step1:create a github account by using gmail or by sign in option which asks to enter a username,mail and passward\n",
    "      and then account is created.\n",
    "step2:create a repository by name LetsUpgrade AI-ML\n",
    "step3:create a folder of assignments in your respective folder and drag the assignments in a github uploads.\n",
    "step4:copy the path of github upload link/url\n",
    "step5:paste the link a LetsUpgrade assignments form."
   ]
  },
  {
   "cell_type": "code",
   "execution_count": null,
   "metadata": {},
   "outputs": [],
   "source": []
  },
  {
   "cell_type": "code",
   "execution_count": null,
   "metadata": {},
   "outputs": [],
   "source": []
  }
 ],
 "metadata": {
  "kernelspec": {
   "display_name": "Python 3",
   "language": "python",
   "name": "python3"
  },
  "language_info": {
   "codemirror_mode": {
    "name": "ipython",
    "version": 3
   },
   "file_extension": ".py",
   "mimetype": "text/x-python",
   "name": "python",
   "nbconvert_exporter": "python",
   "pygments_lexer": "ipython3",
   "version": "3.7.3"
  }
 },
 "nbformat": 4,
 "nbformat_minor": 2
}
