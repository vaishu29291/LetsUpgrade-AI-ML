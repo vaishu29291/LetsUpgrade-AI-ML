{
 "cells": [
  {
   "cell_type": "raw",
   "metadata": {},
   "source": [
    "Q2: Range functions"
   ]
  },
  {
   "cell_type": "code",
   "execution_count": 2,
   "metadata": {},
   "outputs": [
    {
     "name": "stdout",
     "output_type": "stream",
     "text": [
      "addition of two complex numbers is  (40+60j)\n",
      "subtraction of two complex numbers is  (-2-2j)\n",
      "multiplication of two complex numbers is  (3+2j)\n",
      "(10+24j)\n",
      "division of two complex numbers is  (-1.2+1.6j)\n"
     ]
    }
   ],
   "source": [
    "#  complex of addition\n",
    "a=complex(10,20)\n",
    "b=complex(30,40)\n",
    "c=a+b\n",
    "print(\"addition of two complex numbers is \",c)\n",
    "\n",
    "#subtraction\n",
    "a=complex(1,2)\n",
    "b=complex(3,4)\n",
    "sub=a-b\n",
    "print(\"subtraction of two complex numbers is \",sub)\n",
    "\n",
    "#multiplication\n",
    "a=complex(6,4)\n",
    "b=complex(3,2)\n",
    "mul=a-b\n",
    "print(\"multiplication of two complex numbers is \",mul)\n",
    "\n",
    "#multiplication\n",
    "a = 6+4j\n",
    "b = 3+2j\n",
    "c = a*b\n",
    "print(c)\n",
    "\n",
    "# division\n",
    "a=complex(2,4)\n",
    "b=complex(1,-2)\n",
    "div=a/b\n",
    "print(\"division of two complex numbers is \",div)\n",
    "\n"
   ]
  },
  {
   "cell_type": "raw",
   "metadata": {},
   "source": [
    "we have three ways to perform range function\n",
    "1.to represent direct number in a range function"
   ]
  },
  {
   "cell_type": "code",
   "execution_count": 8,
   "metadata": {},
   "outputs": [
    {
     "name": "stdout",
     "output_type": "stream",
     "text": [
      "0\n",
      "1\n",
      "2\n",
      "3\n",
      "4\n"
     ]
    }
   ],
   "source": [
    "for x in range(5):\n",
    "    print(x)"
   ]
  },
  {
   "cell_type": "raw",
   "metadata": {},
   "source": [
    "2.to give start and stop of a range in a range function"
   ]
  },
  {
   "cell_type": "code",
   "execution_count": 11,
   "metadata": {},
   "outputs": [
    {
     "name": "stdout",
     "output_type": "stream",
     "text": [
      "0\n",
      "1\n",
      "2\n",
      "3\n",
      "4\n",
      "5\n"
     ]
    }
   ],
   "source": [
    "for i in range(0,6):\n",
    "    print(i)"
   ]
  },
  {
   "cell_type": "raw",
   "metadata": {},
   "source": [
    "3.by start ,stop and step in range function"
   ]
  },
  {
   "cell_type": "code",
   "execution_count": 12,
   "metadata": {},
   "outputs": [
    {
     "name": "stdout",
     "output_type": "stream",
     "text": [
      "0\n",
      "2\n",
      "4\n",
      "6\n",
      "8\n"
     ]
    }
   ],
   "source": [
    "for i in range(0,10,2):\n",
    "    print(i)"
   ]
  },
  {
   "cell_type": "raw",
   "metadata": {},
   "source": [
    "program to print F shape"
   ]
  },
  {
   "cell_type": "code",
   "execution_count": 21,
   "metadata": {},
   "outputs": [
    {
     "name": "stdout",
     "output_type": "stream",
     "text": [
      "* * * * * \n",
      "*     \n",
      "*     \n",
      "* * * * * \n",
      "*     \n",
      "*     \n",
      "*     \n"
     ]
    }
   ],
   "source": [
    "for row in range(7):\n",
    "    for col in range(5):\n",
    "        if (col==0) or ((row==0 or row==3) and col>0):\n",
    "            print(\"*\",end=\" \")\n",
    "        else:\n",
    "            print(end=\" \")\n",
    "    print()"
   ]
  },
  {
   "cell_type": "raw",
   "metadata": {},
   "source": [
    "Q3:consider two numbers.perform their subtraction anf if the result of subtraction is grater than 25,print their multiplication result else print their division result."
   ]
  },
  {
   "cell_type": "code",
   "execution_count": 25,
   "metadata": {},
   "outputs": [
    {
     "name": "stdout",
     "output_type": "stream",
     "text": [
      "enter the number10\n",
      "enter the number20\n",
      "0.5\n"
     ]
    }
   ],
   "source": [
    "a=int(input(\"enter the number\"))\n",
    "b=int(input(\"enter the number\"))\n",
    "c=a-b\n",
    "m=a*b\n",
    "d=a/b\n",
    "if(c>25):\n",
    "    print(m)\n",
    "else:\n",
    "    print(d)\n"
   ]
  },
  {
   "cell_type": "raw",
   "metadata": {},
   "source": [
    "Q4: Consider a list of 10 numbers of integers values. If the numbers in the list is divisible by 2 print the result as square of that number minus 2\""
   ]
  },
  {
   "cell_type": "code",
   "execution_count": 62,
   "metadata": {},
   "outputs": [
    {
     "name": "stdout",
     "output_type": "stream",
     "text": [
      "98\n",
      "398\n",
      "898\n",
      "1598\n",
      "2498\n",
      "3598\n",
      "4898\n",
      "6398\n",
      "8098\n",
      "9998\n"
     ]
    }
   ],
   "source": [
    "Lst=[10,20,30,40,50,60,70,80,90,100]\n",
    "for i in Lst:\n",
    "    if(i%2==0):\n",
    "        print(i*i-2)\n",
    "\n"
   ]
  },
  {
   "cell_type": "raw",
   "metadata": {},
   "source": [
    "Q5: consider a list of 10 elements.Print all the elements in the list which are greater than 7 when that number is divided 2"
   ]
  },
  {
   "cell_type": "code",
   "execution_count": 66,
   "metadata": {},
   "outputs": [
    {
     "name": "stdout",
     "output_type": "stream",
     "text": [
      "8\n",
      "10\n"
     ]
    }
   ],
   "source": [
    "lst=[1,2,3,4,5,6,7,8,9,10]\n",
    "\n",
    "for i in lst:\n",
    "    if(i%2==0) and i>7:\n",
    "        print(i)"
   ]
  },
  {
   "cell_type": "code",
   "execution_count": null,
   "metadata": {},
   "outputs": [],
   "source": []
  }
 ],
 "metadata": {
  "kernelspec": {
   "display_name": "Python 3",
   "language": "python",
   "name": "python3"
  },
  "language_info": {
   "codemirror_mode": {
    "name": "ipython",
    "version": 3
   },
   "file_extension": ".py",
   "mimetype": "text/x-python",
   "name": "python",
   "nbconvert_exporter": "python",
   "pygments_lexer": "ipython3",
   "version": "3.7.3"
  }
 },
 "nbformat": 4,
 "nbformat_minor": 2
}
