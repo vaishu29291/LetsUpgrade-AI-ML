{
 "cells": [
  {
   "cell_type": "raw",
   "metadata": {},
   "source": [
    "Q1:Python program to find the first 20 non even prime natural number"
   ]
  },
  {
   "cell_type": "code",
   "execution_count": 10,
   "metadata": {},
   "outputs": [
    {
     "name": "stdout",
     "output_type": "stream",
     "text": [
      "Prime numbers between 1 and 20 are:\n",
      "2\n",
      "3\n",
      "5\n",
      "7\n",
      "11\n",
      "13\n",
      "17\n",
      "19\n"
     ]
    }
   ],
   "source": [
    "lower = 1\n",
    "upper = 20\n",
    "\n",
    "print(\"Prime numbers between\", lower, \"and\", upper, \"are:\")\n",
    "\n",
    "for num in range(lower, upper + 1):\n",
    "    if num > 1:\n",
    "        for i in range(2, num):\n",
    "           if (num % i) == 0:\n",
    "             break\n",
    "        else:\n",
    "           print(num)"
   ]
  },
  {
   "cell_type": "raw",
   "metadata": {},
   "source": [
    "Q2:python program to implement 15 functions of string"
   ]
  },
  {
   "cell_type": "code",
   "execution_count": 27,
   "metadata": {},
   "outputs": [
    {
     "name": "stdout",
     "output_type": "stream",
     "text": [
      "Hi im vaishnavi\n",
      "LetsUpgrade\n",
      "america\n",
      "I like apples\n",
      "['Hello', 'how are you']\n",
      "singing is my favorite hobby\n",
      "THANK YOU LETSUPGRADE\n",
      "12\n",
      "John#Peter#Vicky\n",
      "('I could sing ', 'music', ' all day')\n",
      "True\n",
      "True\n",
      "2\n",
      "Hello, and welcome to my world.\n",
      "True\n"
     ]
    }
   ],
   "source": [
    "#1 islower()\n",
    "x=\"Hi im vaishnavi\"\n",
    "x.islower()\n",
    "print(x)\n",
    "\n",
    "#2 lower()\n",
    "y=\"LetsUpgrade\"\n",
    "y.lower()\n",
    "print(y)\n",
    "\n",
    "#3 title()\n",
    "z=\"america\"\n",
    "z.title()\n",
    "print(z)\n",
    "\n",
    "#4 replace()\n",
    "txt=\"I like bananas\"\n",
    "x =txt.replace(\"bananas\", \"apples\")\n",
    "print(x)\n",
    "\n",
    "#5 splitlines()\n",
    "txt = \"Hello\\nhow are you\"\n",
    "k = txt.splitlines()\n",
    "print(k)\n",
    "\n",
    "#6 strip()\n",
    "txt = \" singing\"\n",
    "L = txt.strip()\n",
    "print(L, \"is my favorite hobby\")\n",
    "\n",
    "#7 upper()\n",
    "txt = \"thank you letsupgrade\"\n",
    "x = txt.upper()\n",
    "print(x)\n",
    "\n",
    "#8 rfind()\n",
    "txt = \"Mi casa, su casa.\"\n",
    "x = txt.rfind(\"casa\")\n",
    "print(x)\n",
    "\n",
    "#9 join()\n",
    "my= (\"John\", \"Peter\", \"Vicky\")\n",
    "x = \"#\".join(my)\n",
    "print(x)\n",
    "\n",
    "#10 partition()\n",
    "txt = \"I could sing music all day\"\n",
    "x = txt.partition(\"music\")\n",
    "print(x)\n",
    "\n",
    "#11 isdigit()\n",
    "txt = \"50800\"\n",
    "x = txt.isdigit()\n",
    "print(x)\n",
    "\n",
    "#12 isalnum()\n",
    "txt = \"Company12\"\n",
    "x = txt.isalnum()\n",
    "print(x)\n",
    "\n",
    "#13 count()\n",
    "txt = \"I love apples, apple are my favorite fruit\"\n",
    "x = txt.count(\"apple\")\n",
    "print(x)\n",
    "\n",
    "#14 capitalize()\n",
    "txt = \"hello, and welcome to my world.\"\n",
    "x = txt.capitalize()\n",
    "print (x)\n",
    "\n",
    "#15 endswith()\n",
    "txt = \"Hello, welcome to my world.\"\n",
    "x = txt.endswith(\".\")\n",
    "print(x)"
   ]
  },
  {
   "cell_type": "raw",
   "metadata": {},
   "source": [
    "Q3: python program to check if the given string is a palindrome or anagram or none of them."
   ]
  },
  {
   "cell_type": "code",
   "execution_count": 36,
   "metadata": {},
   "outputs": [
    {
     "name": "stdout",
     "output_type": "stream",
     "text": [
      "enter the string mum\n",
      "The string is a palindrome.\n",
      "entr the first input heart\n",
      "enter the 2nd string earth\n",
      "anagram\n"
     ]
    }
   ],
   "source": [
    "my_str =str(input(\"enter the string \"))\n",
    "my_str = my_str.casefold()\n",
    "rev_str = reversed(my_str)\n",
    "if list(my_str) == list(rev_str):\n",
    "    \n",
    "    \n",
    "   print(\"The string is a palindrome.\")\n",
    "else:\n",
    "   print(\"The string is not a palindrome.\")\n",
    "my=str(input(\"entr the first input \"))\n",
    "rev=str(input(\"enter the 2nd string \"))\n",
    "sorted_my=sorted(my)\n",
    "sorted_rev=sorted(rev)\n",
    "if (sorted_my==sorted_rev):\n",
    "    print(\"anagram\")\n",
    "else:\n",
    "    print(\"not anagram\")\n"
   ]
  },
  {
   "cell_type": "raw",
   "metadata": {},
   "source": [
    "Q4:Write a Python's user defined function that removes all the additional characters from the string\n",
    "and converts it finally to lower case using built-in lower(). eg: If the string is \"Dr. Darshan Ingle\n",
    "@AI-ML Trainer\", then the output be \"drdarshaningleaimltrainer\"."
   ]
  },
  {
   "cell_type": "code",
   "execution_count": 38,
   "metadata": {},
   "outputs": [
    {
     "name": "stdout",
     "output_type": "stream",
     "text": [
      "string is: Dr. Darshan Ingle@AI-ML Trainer\n",
      "After removing all special characters from string\n",
      "resultant string is: drdarshaningleaimltrainer\n"
     ]
    }
   ],
   "source": [
    "def replace_char(x):\n",
    "    invalid_list=['!','@','#','$','%','^','&','*','_','?','.',':','-',\" \"]\n",
    "    for i in invalid_list:\n",
    "        x=x.replace(i,'')\n",
    "        x=x.lower()\n",
    "    print(\"After removing all special characters from string\")\n",
    "    print(\"resultant string is:\",x)\n",
    "string_is='Dr. Darshan Ingle@AI-ML Trainer'\n",
    "print(\"string is:\",string_is)\n",
    "replace_char(string_is)"
   ]
  },
  {
   "cell_type": "code",
   "execution_count": null,
   "metadata": {},
   "outputs": [],
   "source": []
  }
 ],
 "metadata": {
  "kernelspec": {
   "display_name": "Python 3",
   "language": "python",
   "name": "python3"
  },
  "language_info": {
   "codemirror_mode": {
    "name": "ipython",
    "version": 3
   },
   "file_extension": ".py",
   "mimetype": "text/x-python",
   "name": "python",
   "nbconvert_exporter": "python",
   "pygments_lexer": "ipython3",
   "version": "3.7.3"
  }
 },
 "nbformat": 4,
 "nbformat_minor": 2
}
